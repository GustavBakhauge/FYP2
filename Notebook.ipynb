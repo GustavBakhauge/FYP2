{
  "nbformat": 4,
  "nbformat_minor": 0,
  "metadata": {
    "colab": {
      "name": "Untitled6.ipynb",
      "provenance": [],
      "collapsed_sections": [],
      "authorship_tag": "ABX9TyOpjm9wMDlYzRgCAMf03M6F",
      "include_colab_link": true
    },
    "kernelspec": {
      "name": "python3",
      "display_name": "Python 3"
    }
  },
  "cells": [
    {
      "cell_type": "markdown",
      "metadata": {
        "id": "view-in-github",
        "colab_type": "text"
      },
      "source": [
        "<a href=\"https://colab.research.google.com/github/GustavBakhauge/FYP2/blob/master/Notebook.ipynb\" target=\"_parent\"><img src=\"https://colab.research.google.com/assets/colab-badge.svg\" alt=\"Open In Colab\"/></a>"
      ]
    },
    {
      "cell_type": "code",
      "metadata": {
        "id": "jaA-uJOKo9k9",
        "colab_type": "code",
        "colab": {
          "base_uri": "https://localhost:8080/",
          "height": 33
        },
        "outputId": "6795ec57-b7b4-438f-c33f-98088f652acf"
      },
      "source": [
        "!git clone https://github.com/GustavBakhauge/FYP2 #Clone the repo\n",
        "import pandas as pd\n",
        "import matplotlib as plt \n",
        "import numpy as np\n",
        "import altair as alt\n",
        "import seaborn as sns"
      ],
      "execution_count": 1,
      "outputs": [
        {
          "output_type": "stream",
          "text": [
            "fatal: destination path 'FYP2' already exists and is not an empty directory.\n"
          ],
          "name": "stdout"
        }
      ]
    },
    {
      "cell_type": "code",
      "metadata": {
        "id": "oPKTF604o_B_",
        "colab_type": "code",
        "colab": {}
      },
      "source": [
        "deaths_data = pd.read_csv(\"FYP2/Corona_deaths.csv\")\n",
        "inf_data = pd.read_csv(\"FYP2/Corona_infections.csv\")\n",
        "rec_data = pd.read_csv(\"FYP2/Corona_recovered.csv\")"
      ],
      "execution_count": 0,
      "outputs": []
    },
    {
      "cell_type": "code",
      "metadata": {
        "id": "L59jVlvKpLnT",
        "colab_type": "code",
        "colab": {}
      },
      "source": [
        "BB = (deaths_data.Lat.min(),deaths_data.Lat.max(), deaths_data.Long.min(), deaths_data.Long.max())"
      ],
      "execution_count": 0,
      "outputs": []
    },
    {
      "cell_type": "code",
      "metadata": {
        "id": "H3QIo2khyEv7",
        "colab_type": "code",
        "colab": {}
      },
      "source": [
        "inf_numbers = inf_data.drop([\"Lat\", \"Long\", \"Province/State\", \"Country/Region\"], axis=1)\n",
        "rec_numbers = rec_data.drop([\"Lat\", \"Long\", \"Province/State\", \"Country/Region\"], axis=1)\n",
        "deaths_numbers = deaths_data.drop([\"Lat\", \"Long\", \"Province/State\", \"Country/Region\"], axis=1)"
      ],
      "execution_count": 0,
      "outputs": []
    },
    {
      "cell_type": "code",
      "metadata": {
        "id": "ctsS7CWepQOf",
        "colab_type": "code",
        "colab": {}
      },
      "source": [
        "inf_numbers = inf_data.drop([\"Lat\", \"Long\", \"Province/State\", \"Country/Region\"], axis=1)"
      ],
      "execution_count": 0,
      "outputs": []
    },
    {
      "cell_type": "code",
      "metadata": {
        "id": "b57VApapt0Yk",
        "colab_type": "code",
        "colab": {}
      },
      "source": [
        "#creating list for numbers. Maybe do list comprehension.\n",
        "dictionary = {\"Date\": [], \"Infected\": [], \"Recovered\": [], \"Deaths\": []}\n",
        "for name, number in inf_numbers.iteritems():\n",
        "  dictionary[\"Infected\"].append(sum(number))\n",
        "for name, number in rec_numbers.iteritems():\n",
        "  dictionary[\"Recovered\"].append(sum(number))\n",
        "for name, number in deaths_numbers.iteritems():\n",
        "  dictionary[\"Deaths\"].append(sum(number))\n",
        "  dictionary[\"Date\"].append(str(name))\n",
        "#Create panda dateframe with new values\n",
        "df = pd.DataFrame(dictionary)\n",
        "dates = pd.to_datetime(df[\"Date\"])"
      ],
      "execution_count": 0,
      "outputs": []
    },
    {
      "cell_type": "code",
      "metadata": {
        "id": "BBwDSQfCXiym",
        "colab_type": "code",
        "colab": {
          "base_uri": "https://localhost:8080/",
          "height": 368
        },
        "outputId": "4b76786a-0b7c-4e3e-e45b-29baa3da7562"
      },
      "source": [
        "alt.Chart(df).transform_fold(\n",
        "    ['Infected', 'Recovered', 'Deaths'],\n",
        "    as_=['Index', 'Population']).mark_line().encode(\n",
        "        x='Date:T',\n",
        "        y='Population:Q',\n",
        "        color=alt.Color('Index:N',scale=alt.Scale(range=[\"red\",\"blue\",\"green\"])))"
      ],
      "execution_count": 13,
      "outputs": [
        {
          "output_type": "execute_result",
          "data": {
            "text/plain": [
              "alt.Chart(...)"
            ],
            "text/html": [
              "\n",
              "<div id=\"altair-viz-25cb292c0c5c4bbf8a1a212cad19a62a\"></div>\n",
              "<script type=\"text/javascript\">\n",
              "  (function(spec, embedOpt){\n",
              "    const outputDiv = document.getElementById(\"altair-viz-25cb292c0c5c4bbf8a1a212cad19a62a\");\n",
              "    const paths = {\n",
              "      \"vega\": \"https://cdn.jsdelivr.net/npm//vega@5?noext\",\n",
              "      \"vega-lib\": \"https://cdn.jsdelivr.net/npm//vega-lib?noext\",\n",
              "      \"vega-lite\": \"https://cdn.jsdelivr.net/npm//vega-lite@4.0.2?noext\",\n",
              "      \"vega-embed\": \"https://cdn.jsdelivr.net/npm//vega-embed@6?noext\",\n",
              "    };\n",
              "\n",
              "    function loadScript(lib) {\n",
              "      return new Promise(function(resolve, reject) {\n",
              "        var s = document.createElement('script');\n",
              "        s.src = paths[lib];\n",
              "        s.async = true;\n",
              "        s.onload = () => resolve(paths[lib]);\n",
              "        s.onerror = () => reject(`Error loading script: ${paths[lib]}`);\n",
              "        document.getElementsByTagName(\"head\")[0].appendChild(s);\n",
              "      });\n",
              "    }\n",
              "\n",
              "    function showError(err) {\n",
              "      outputDiv.innerHTML = `<div class=\"error\" style=\"color:red;\">${err}</div>`;\n",
              "      throw err;\n",
              "    }\n",
              "\n",
              "    function displayChart(vegaEmbed) {\n",
              "      vegaEmbed(outputDiv, spec, embedOpt)\n",
              "        .catch(err => showError(`Javascript Error: ${err.message}<br>This usually means there's a typo in your chart specification. See the javascript console for the full traceback.`));\n",
              "    }\n",
              "\n",
              "    if(typeof define === \"function\" && define.amd) {\n",
              "      requirejs.config({paths});\n",
              "      require([\"vega-embed\"], displayChart, err => showError(`Error loading script: ${err.message}`));\n",
              "    } else if (typeof vegaEmbed === \"function\") {\n",
              "      displayChart(vegaEmbed);\n",
              "    } else {\n",
              "      loadScript(\"vega\")\n",
              "        .then(() => loadScript(\"vega-lite\"))\n",
              "        .then(() => loadScript(\"vega-embed\"))\n",
              "        .catch(showError)\n",
              "        .then(() => displayChart(vegaEmbed));\n",
              "    }\n",
              "  })({\"config\": {\"view\": {\"continuousWidth\": 400, \"continuousHeight\": 300}}, \"data\": {\"name\": \"data-2bab6747b44e5dd71b3a660c1cff973c\"}, \"mark\": \"line\", \"encoding\": {\"color\": {\"type\": \"nominal\", \"field\": \"Index\", \"scale\": {\"range\": [\"red\", \"blue\", \"green\"]}}, \"x\": {\"type\": \"temporal\", \"field\": \"Date\"}, \"y\": {\"type\": \"quantitative\", \"field\": \"Population\"}}, \"transform\": [{\"fold\": [\"Infected\", \"Recovered\", \"Deaths\"], \"as\": [\"Index\", \"Population\"]}], \"$schema\": \"https://vega.github.io/schema/vega-lite/v4.0.2.json\", \"datasets\": {\"data-2bab6747b44e5dd71b3a660c1cff973c\": [{\"Date\": \"1/22/2020\", \"Infected\": 555, \"Recovered\": 28, \"Deaths\": 17}, {\"Date\": \"1/23/2020\", \"Infected\": 653, \"Recovered\": 30, \"Deaths\": 18}, {\"Date\": \"1/24/2020\", \"Infected\": 941, \"Recovered\": 36, \"Deaths\": 26}, {\"Date\": \"1/25/2020\", \"Infected\": 1434, \"Recovered\": 39, \"Deaths\": 42}, {\"Date\": \"1/26/2020\", \"Infected\": 2118, \"Recovered\": 52, \"Deaths\": 56}, {\"Date\": \"1/27/2020\", \"Infected\": 2927, \"Recovered\": 61, \"Deaths\": 82}, {\"Date\": \"1/28/2020\", \"Infected\": 5578, \"Recovered\": 107, \"Deaths\": 131}, {\"Date\": \"1/29/2020\", \"Infected\": 6166, \"Recovered\": 126, \"Deaths\": 133}, {\"Date\": \"1/30/2020\", \"Infected\": 8234, \"Recovered\": 143, \"Deaths\": 171}, {\"Date\": \"1/31/2020\", \"Infected\": 9927, \"Recovered\": 222, \"Deaths\": 213}, {\"Date\": \"2/1/2020\", \"Infected\": 12038, \"Recovered\": 284, \"Deaths\": 259}, {\"Date\": \"2/2/2020\", \"Infected\": 16787, \"Recovered\": 472, \"Deaths\": 362}, {\"Date\": \"2/3/2020\", \"Infected\": 19881, \"Recovered\": 623, \"Deaths\": 426}, {\"Date\": \"2/4/2020\", \"Infected\": 23892, \"Recovered\": 852, \"Deaths\": 492}, {\"Date\": \"2/5/2020\", \"Infected\": 27636, \"Recovered\": 1124, \"Deaths\": 564}, {\"Date\": \"2/6/2020\", \"Infected\": 30818, \"Recovered\": 1487, \"Deaths\": 634}, {\"Date\": \"2/7/2020\", \"Infected\": 34392, \"Recovered\": 2011, \"Deaths\": 719}, {\"Date\": \"2/8/2020\", \"Infected\": 37121, \"Recovered\": 2616, \"Deaths\": 806}, {\"Date\": \"2/9/2020\", \"Infected\": 40151, \"Recovered\": 3244, \"Deaths\": 906}, {\"Date\": \"2/10/2020\", \"Infected\": 42763, \"Recovered\": 3946, \"Deaths\": 1013}, {\"Date\": \"2/11/2020\", \"Infected\": 44803, \"Recovered\": 4683, \"Deaths\": 1113}, {\"Date\": \"2/12/2020\", \"Infected\": 45222, \"Recovered\": 5150, \"Deaths\": 1118}, {\"Date\": \"2/13/2020\", \"Infected\": 60370, \"Recovered\": 6295, \"Deaths\": 1371}, {\"Date\": \"2/14/2020\", \"Infected\": 66887, \"Recovered\": 8058, \"Deaths\": 1523}, {\"Date\": \"2/15/2020\", \"Infected\": 69032, \"Recovered\": 9395, \"Deaths\": 1666}, {\"Date\": \"2/16/2020\", \"Infected\": 71226, \"Recovered\": 10865, \"Deaths\": 1770}, {\"Date\": \"2/17/2020\", \"Infected\": 73260, \"Recovered\": 12583, \"Deaths\": 1868}, {\"Date\": \"2/18/2020\", \"Infected\": 75138, \"Recovered\": 14352, \"Deaths\": 2007}, {\"Date\": \"2/19/2020\", \"Infected\": 75641, \"Recovered\": 16121, \"Deaths\": 2122}, {\"Date\": \"2/20/2020\", \"Infected\": 76199, \"Recovered\": 18177, \"Deaths\": 2247}, {\"Date\": \"2/21/2020\", \"Infected\": 76843, \"Recovered\": 18890, \"Deaths\": 2251}, {\"Date\": \"2/22/2020\", \"Infected\": 78599, \"Recovered\": 22886, \"Deaths\": 2458}, {\"Date\": \"2/23/2020\", \"Infected\": 78985, \"Recovered\": 23394, \"Deaths\": 2469}, {\"Date\": \"2/24/2020\", \"Infected\": 79570, \"Recovered\": 25227, \"Deaths\": 2629}, {\"Date\": \"2/25/2020\", \"Infected\": 80415, \"Recovered\": 27905, \"Deaths\": 2708}, {\"Date\": \"2/26/2020\", \"Infected\": 81397, \"Recovered\": 30384, \"Deaths\": 2770}, {\"Date\": \"2/27/2020\", \"Infected\": 82756, \"Recovered\": 33277, \"Deaths\": 2814}, {\"Date\": \"2/28/2020\", \"Infected\": 84122, \"Recovered\": 36711, \"Deaths\": 2872}, {\"Date\": \"2/29/2020\", \"Infected\": 86013, \"Recovered\": 39782, \"Deaths\": 2941}, {\"Date\": \"3/1/2020\", \"Infected\": 88371, \"Recovered\": 42716, \"Deaths\": 2996}, {\"Date\": \"3/2/2020\", \"Infected\": 90309, \"Recovered\": 45602, \"Deaths\": 3085}, {\"Date\": \"3/3/2020\", \"Infected\": 92843, \"Recovered\": 48229, \"Deaths\": 3160}, {\"Date\": \"3/4/2020\", \"Infected\": 95123, \"Recovered\": 51171, \"Deaths\": 3254}, {\"Date\": \"3/5/2020\", \"Infected\": 97885, \"Recovered\": 53797, \"Deaths\": 3348}, {\"Date\": \"3/6/2020\", \"Infected\": 101799, \"Recovered\": 55866, \"Deaths\": 3460}, {\"Date\": \"3/7/2020\", \"Infected\": 105835, \"Recovered\": 58359, \"Deaths\": 3558}, {\"Date\": \"3/8/2020\", \"Infected\": 109814, \"Recovered\": 60695, \"Deaths\": 3803}, {\"Date\": \"3/9/2020\", \"Infected\": 113583, \"Recovered\": 62512, \"Deaths\": 3996}]}}, {\"mode\": \"vega-lite\"});\n",
              "</script>"
            ]
          },
          "metadata": {
            "tags": []
          },
          "execution_count": 13
        }
      ]
    },
    {
      "cell_type": "code",
      "metadata": {
        "id": "_SFoBgFCpp9N",
        "colab_type": "code",
        "colab": {}
      },
      "source": [
        ""
      ],
      "execution_count": 0,
      "outputs": []
    }
  ]
}