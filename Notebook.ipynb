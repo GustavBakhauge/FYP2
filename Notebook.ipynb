{
  "nbformat": 4,
  "nbformat_minor": 0,
  "metadata": {
    "colab": {
      "name": "Untitled6.ipynb",
      "provenance": [],
      "collapsed_sections": [],
      "authorship_tag": "ABX9TyNt5lJCCHYxs4fWczrSQgXV",
      "include_colab_link": true
    },
    "kernelspec": {
      "name": "python3",
      "display_name": "Python 3"
    }
  },
  "cells": [
    {
      "cell_type": "markdown",
      "metadata": {
        "id": "view-in-github",
        "colab_type": "text"
      },
      "source": [
        "<a href=\"https://colab.research.google.com/github/GustavBakhauge/FYP2/blob/master/Notebook.ipynb\" target=\"_parent\"><img src=\"https://colab.research.google.com/assets/colab-badge.svg\" alt=\"Open In Colab\"/></a>"
      ]
    },
    {
      "cell_type": "code",
      "metadata": {
        "id": "jaA-uJOKo9k9",
        "colab_type": "code",
        "colab": {
          "base_uri": "https://localhost:8080/",
          "height": 33
        },
        "outputId": "6e070b0f-155b-4c77-be05-b4d87ef8fc07"
      },
      "source": [
        "!git clone https://github.com/GustavBakhauge/FYP2 #Clone the repo\n",
        "import pandas as pd\n",
        "import matplotlib as plt \n",
        "import numpy as np\n",
        "import altair as alt\n",
        "import seaborn as sns"
      ],
      "execution_count": 1,
      "outputs": [
        {
          "output_type": "stream",
          "text": [
            "fatal: destination path 'FYP2' already exists and is not an empty directory.\n"
          ],
          "name": "stdout"
        }
      ]
    },
    {
      "cell_type": "code",
      "metadata": {
        "id": "oPKTF604o_B_",
        "colab_type": "code",
        "colab": {}
      },
      "source": [
        "deaths_data = pd.read_csv(\"FYP2/Corona_deaths.csv\")\n",
        "inf_data = pd.read_csv(\"FYP2/Corona_infections.csv\")\n",
        "rec_data = pd.read_csv(\"FYP2/Corona_recovered.csv\")"
      ],
      "execution_count": 0,
      "outputs": []
    },
    {
      "cell_type": "code",
      "metadata": {
        "id": "L59jVlvKpLnT",
        "colab_type": "code",
        "colab": {}
      },
      "source": [
        "BB = (deaths_data.Lat.min(),deaths_data.Lat.max(), deaths_data.Long.min(), deaths_data.Long.max())"
      ],
      "execution_count": 0,
      "outputs": []
    },
    {
      "cell_type": "code",
      "metadata": {
        "id": "H3QIo2khyEv7",
        "colab_type": "code",
        "colab": {}
      },
      "source": [
        "inf_numbers = inf_data.drop([\"Lat\", \"Long\", \"Province/State\", \"Country/Region\"], axis=1)\n",
        "rec_numbers = rec_data.drop([\"Lat\", \"Long\", \"Province/State\", \"Country/Region\"], axis=1)\n",
        "deaths_numbers = deaths_data.drop([\"Lat\", \"Long\", \"Province/State\", \"Country/Region\"], axis=1)"
      ],
      "execution_count": 0,
      "outputs": []
    },
    {
      "cell_type": "code",
      "metadata": {
        "id": "ctsS7CWepQOf",
        "colab_type": "code",
        "colab": {}
      },
      "source": [
        "inf_numbers = inf_data.drop([\"Lat\", \"Long\", \"Province/State\", \"Country/Region\"], axis=1)"
      ],
      "execution_count": 0,
      "outputs": []
    },
    {
      "cell_type": "code",
      "metadata": {
        "id": "b57VApapt0Yk",
        "colab_type": "code",
        "colab": {}
      },
      "source": [
        "#creating list for numbers. Maybe do list comprehension.\n",
        "dictionary = {\"Date\": [], \"Infected\": [], \"Recovered\": [], \"Deaths\": []}\n",
        "for name, number in inf_numbers.iteritems():\n",
        "  dictionary[\"Infected\"].append(sum(number))\n",
        "for name, number in rec_numbers.iteritems():\n",
        "  dictionary[\"Recovered\"].append(sum(number))\n",
        "for name, number in deaths_numbers.iteritems():\n",
        "  dictionary[\"Deaths\"].append(sum(number))\n",
        "  dictionary[\"Date\"].append(str(name))\n"
      ],
      "execution_count": 0,
      "outputs": []
    },
    {
      "cell_type": "code",
      "metadata": {
        "id": "RW2JU9KiNJyk",
        "colab_type": "code",
        "colab": {}
      },
      "source": [
        "#Create panda dateframe\n",
        "df = pd.DataFrame(dictionary)\n",
        "dates = pd.to_datetime(df[\"Date\"])"
      ],
      "execution_count": 0,
      "outputs": []
    },
    {
      "cell_type": "code",
      "metadata": {
        "id": "HVXSHslfyek0",
        "colab_type": "code",
        "colab": {
          "base_uri": "https://localhost:8080/",
          "height": 285
        },
        "outputId": "468a01ff-e729-4c74-a847-5388cb4e64aa"
      },
      "source": [
        "sns.set(style=\"ticks\")\n",
        "data = df.rolling(1).mean()\n",
        "sns.lineplot(data=data, palette=[\"blue\", \"green\", \"red\"], linewidth=4.5,markers=None)"
      ],
      "execution_count": 8,
      "outputs": [
        {
          "output_type": "execute_result",
          "data": {
            "text/plain": [
              "<matplotlib.axes._subplots.AxesSubplot at 0x7f7228351128>"
            ]
          },
          "metadata": {
            "tags": []
          },
          "execution_count": 8
        },
        {
          "output_type": "display_data",
          "data": {
            "image/png": "[encoded data removed]",
            "text/plain": [
              "<Figure size 432x288 with 1 Axes>"
            ]
          },
          "metadata": {
            "tags": []
          }
        }
      ]
    },
    {
      "cell_type": "code",
      "metadata": {
        "id": "xQz6MGni1cYd",
        "colab_type": "code",
        "colab": {
          "base_uri": "https://localhost:8080/",
          "height": 406
        },
        "outputId": "75d3a83f-44f1-4dc6-833a-94493a828891"
      },
      "source": [
        "\n",
        "alt.Chart(df).mark_point().encode(x=\"Date\",y=\"Status\")"
      ],
      "execution_count": 9,
      "outputs": [
        {
          "output_type": "error",
          "ename": "ValueError",
          "evalue": "ignored",
          "traceback": [
            "\u001b[0;31m---------------------------------------------------------------------------\u001b[0m",
            "\u001b[0;31mValueError\u001b[0m                                Traceback (most recent call last)",
            "\u001b[0;32m/usr/local/lib/python3.6/dist-packages/altair/vegalite/v4/api.py\u001b[0m in \u001b[0;36mto_dict\u001b[0;34m(self, *args, **kwargs)\u001b[0m\n\u001b[1;32m    363\u001b[0m \u001b[0;34m\u001b[0m\u001b[0m\n\u001b[1;32m    364\u001b[0m         \u001b[0;32mtry\u001b[0m\u001b[0;34m:\u001b[0m\u001b[0;34m\u001b[0m\u001b[0;34m\u001b[0m\u001b[0m\n\u001b[0;32m--> 365\u001b[0;31m             \u001b[0mdct\u001b[0m \u001b[0;34m=\u001b[0m \u001b[0msuper\u001b[0m\u001b[0;34m(\u001b[0m\u001b[0mTopLevelMixin\u001b[0m\u001b[0;34m,\u001b[0m \u001b[0mcopy\u001b[0m\u001b[0;34m)\u001b[0m\u001b[0;34m.\u001b[0m\u001b[0mto_dict\u001b[0m\u001b[0;34m(\u001b[0m\u001b[0;34m*\u001b[0m\u001b[0margs\u001b[0m\u001b[0;34m,\u001b[0m \u001b[0;34m**\u001b[0m\u001b[0mkwargs\u001b[0m\u001b[0;34m)\u001b[0m\u001b[0;34m\u001b[0m\u001b[0;34m\u001b[0m\u001b[0m\n\u001b[0m\u001b[1;32m    366\u001b[0m         \u001b[0;32mexcept\u001b[0m \u001b[0mjsonschema\u001b[0m\u001b[0;34m.\u001b[0m\u001b[0mValidationError\u001b[0m\u001b[0;34m:\u001b[0m\u001b[0;34m\u001b[0m\u001b[0;34m\u001b[0m\u001b[0m\n\u001b[1;32m    367\u001b[0m             \u001b[0mdct\u001b[0m \u001b[0;34m=\u001b[0m \u001b[0;32mNone\u001b[0m\u001b[0;34m\u001b[0m\u001b[0;34m\u001b[0m\u001b[0m\n",
            "\u001b[0;32m/usr/local/lib/python3.6/dist-packages/altair/utils/schemapi.py\u001b[0m in \u001b[0;36mto_dict\u001b[0;34m(self, validate, ignore, context)\u001b[0m\n\u001b[1;32m    297\u001b[0m             result = _todict({k: v for k, v in self._kwds.items()\n\u001b[1;32m    298\u001b[0m                               if k not in ignore},\n\u001b[0;32m--> 299\u001b[0;31m                               validate=sub_validate, context=context)\n\u001b[0m\u001b[1;32m    300\u001b[0m         \u001b[0;32melse\u001b[0m\u001b[0;34m:\u001b[0m\u001b[0;34m\u001b[0m\u001b[0;34m\u001b[0m\u001b[0m\n\u001b[1;32m    301\u001b[0m             raise ValueError(\"{} instance has both a value and properties : \"\n",
            "\u001b[0;32m/usr/local/lib/python3.6/dist-packages/altair/utils/schemapi.py\u001b[0m in \u001b[0;36m_todict\u001b[0;34m(obj, validate, context)\u001b[0m\n\u001b[1;32m     58\u001b[0m         \u001b[0;32mreturn\u001b[0m \u001b[0;34m[\u001b[0m\u001b[0m_todict\u001b[0m\u001b[0;34m(\u001b[0m\u001b[0mv\u001b[0m\u001b[0;34m,\u001b[0m \u001b[0mvalidate\u001b[0m\u001b[0;34m,\u001b[0m \u001b[0mcontext\u001b[0m\u001b[0;34m)\u001b[0m \u001b[0;32mfor\u001b[0m \u001b[0mv\u001b[0m \u001b[0;32min\u001b[0m \u001b[0mobj\u001b[0m\u001b[0;34m]\u001b[0m\u001b[0;34m\u001b[0m\u001b[0;34m\u001b[0m\u001b[0m\n\u001b[1;32m     59\u001b[0m     \u001b[0;32melif\u001b[0m \u001b[0misinstance\u001b[0m\u001b[0;34m(\u001b[0m\u001b[0mobj\u001b[0m\u001b[0;34m,\u001b[0m \u001b[0mdict\u001b[0m\u001b[0;34m)\u001b[0m\u001b[0;34m:\u001b[0m\u001b[0;34m\u001b[0m\u001b[0;34m\u001b[0m\u001b[0m\n\u001b[0;32m---> 60\u001b[0;31m         return {k: _todict(v, validate, context) for k, v in obj.items()\n\u001b[0m\u001b[1;32m     61\u001b[0m                 if v is not Undefined}\n\u001b[1;32m     62\u001b[0m     \u001b[0;32melif\u001b[0m \u001b[0mhasattr\u001b[0m\u001b[0;34m(\u001b[0m\u001b[0mobj\u001b[0m\u001b[0;34m,\u001b[0m \u001b[0;34m'to_dict'\u001b[0m\u001b[0;34m)\u001b[0m\u001b[0;34m:\u001b[0m\u001b[0;34m\u001b[0m\u001b[0;34m\u001b[0m\u001b[0m\n",
            "\u001b[0;32m/usr/local/lib/python3.6/dist-packages/altair/utils/schemapi.py\u001b[0m in \u001b[0;36m<dictcomp>\u001b[0;34m(.0)\u001b[0m\n\u001b[1;32m     59\u001b[0m     \u001b[0;32melif\u001b[0m \u001b[0misinstance\u001b[0m\u001b[0;34m(\u001b[0m\u001b[0mobj\u001b[0m\u001b[0;34m,\u001b[0m \u001b[0mdict\u001b[0m\u001b[0;34m)\u001b[0m\u001b[0;34m:\u001b[0m\u001b[0;34m\u001b[0m\u001b[0;34m\u001b[0m\u001b[0m\n\u001b[1;32m     60\u001b[0m         return {k: _todict(v, validate, context) for k, v in obj.items()\n\u001b[0;32m---> 61\u001b[0;31m                 if v is not Undefined}\n\u001b[0m\u001b[1;32m     62\u001b[0m     \u001b[0;32melif\u001b[0m \u001b[0mhasattr\u001b[0m\u001b[0;34m(\u001b[0m\u001b[0mobj\u001b[0m\u001b[0;34m,\u001b[0m \u001b[0;34m'to_dict'\u001b[0m\u001b[0;34m)\u001b[0m\u001b[0;34m:\u001b[0m\u001b[0;34m\u001b[0m\u001b[0;34m\u001b[0m\u001b[0m\n\u001b[1;32m     63\u001b[0m         \u001b[0;32mreturn\u001b[0m \u001b[0mobj\u001b[0m\u001b[0;34m.\u001b[0m\u001b[0mto_dict\u001b[0m\u001b[0;34m(\u001b[0m\u001b[0;34m)\u001b[0m\u001b[0;34m\u001b[0m\u001b[0;34m\u001b[0m\u001b[0m\n",
            "\u001b[0;32m/usr/local/lib/python3.6/dist-packages/altair/utils/schemapi.py\u001b[0m in \u001b[0;36m_todict\u001b[0;34m(obj, validate, context)\u001b[0m\n\u001b[1;32m     54\u001b[0m     \u001b[0;34m\"\"\"Convert an object to a dict representation.\"\"\"\u001b[0m\u001b[0;34m\u001b[0m\u001b[0;34m\u001b[0m\u001b[0m\n\u001b[1;32m     55\u001b[0m     \u001b[0;32mif\u001b[0m \u001b[0misinstance\u001b[0m\u001b[0;34m(\u001b[0m\u001b[0mobj\u001b[0m\u001b[0;34m,\u001b[0m \u001b[0mSchemaBase\u001b[0m\u001b[0;34m)\u001b[0m\u001b[0;34m:\u001b[0m\u001b[0;34m\u001b[0m\u001b[0;34m\u001b[0m\u001b[0m\n\u001b[0;32m---> 56\u001b[0;31m         \u001b[0;32mreturn\u001b[0m \u001b[0mobj\u001b[0m\u001b[0;34m.\u001b[0m\u001b[0mto_dict\u001b[0m\u001b[0;34m(\u001b[0m\u001b[0mvalidate\u001b[0m\u001b[0;34m=\u001b[0m\u001b[0mvalidate\u001b[0m\u001b[0;34m,\u001b[0m \u001b[0mcontext\u001b[0m\u001b[0;34m=\u001b[0m\u001b[0mcontext\u001b[0m\u001b[0;34m)\u001b[0m\u001b[0;34m\u001b[0m\u001b[0;34m\u001b[0m\u001b[0m\n\u001b[0m\u001b[1;32m     57\u001b[0m     \u001b[0;32melif\u001b[0m \u001b[0misinstance\u001b[0m\u001b[0;34m(\u001b[0m\u001b[0mobj\u001b[0m\u001b[0;34m,\u001b[0m \u001b[0;34m(\u001b[0m\u001b[0mlist\u001b[0m\u001b[0;34m,\u001b[0m \u001b[0mtuple\u001b[0m\u001b[0;34m)\u001b[0m\u001b[0;34m)\u001b[0m\u001b[0;34m:\u001b[0m\u001b[0;34m\u001b[0m\u001b[0;34m\u001b[0m\u001b[0m\n\u001b[1;32m     58\u001b[0m         \u001b[0;32mreturn\u001b[0m \u001b[0;34m[\u001b[0m\u001b[0m_todict\u001b[0m\u001b[0;34m(\u001b[0m\u001b[0mv\u001b[0m\u001b[0;34m,\u001b[0m \u001b[0mvalidate\u001b[0m\u001b[0;34m,\u001b[0m \u001b[0mcontext\u001b[0m\u001b[0;34m)\u001b[0m \u001b[0;32mfor\u001b[0m \u001b[0mv\u001b[0m \u001b[0;32min\u001b[0m \u001b[0mobj\u001b[0m\u001b[0;34m]\u001b[0m\u001b[0;34m\u001b[0m\u001b[0;34m\u001b[0m\u001b[0m\n",
            "\u001b[0;32m/usr/local/lib/python3.6/dist-packages/altair/utils/schemapi.py\u001b[0m in \u001b[0;36mto_dict\u001b[0;34m(self, validate, ignore, context)\u001b[0m\n\u001b[1;32m    297\u001b[0m             result = _todict({k: v for k, v in self._kwds.items()\n\u001b[1;32m    298\u001b[0m                               if k not in ignore},\n\u001b[0;32m--> 299\u001b[0;31m                               validate=sub_validate, context=context)\n\u001b[0m\u001b[1;32m    300\u001b[0m         \u001b[0;32melse\u001b[0m\u001b[0;34m:\u001b[0m\u001b[0;34m\u001b[0m\u001b[0;34m\u001b[0m\u001b[0m\n\u001b[1;32m    301\u001b[0m             raise ValueError(\"{} instance has both a value and properties : \"\n",
            "\u001b[0;32m/usr/local/lib/python3.6/dist-packages/altair/utils/schemapi.py\u001b[0m in \u001b[0;36m_todict\u001b[0;34m(obj, validate, context)\u001b[0m\n\u001b[1;32m     58\u001b[0m         \u001b[0;32mreturn\u001b[0m \u001b[0;34m[\u001b[0m\u001b[0m_todict\u001b[0m\u001b[0;34m(\u001b[0m\u001b[0mv\u001b[0m\u001b[0;34m,\u001b[0m \u001b[0mvalidate\u001b[0m\u001b[0;34m,\u001b[0m \u001b[0mcontext\u001b[0m\u001b[0;34m)\u001b[0m \u001b[0;32mfor\u001b[0m \u001b[0mv\u001b[0m \u001b[0;32min\u001b[0m \u001b[0mobj\u001b[0m\u001b[0;34m]\u001b[0m\u001b[0;34m\u001b[0m\u001b[0;34m\u001b[0m\u001b[0m\n\u001b[1;32m     59\u001b[0m     \u001b[0;32melif\u001b[0m \u001b[0misinstance\u001b[0m\u001b[0;34m(\u001b[0m\u001b[0mobj\u001b[0m\u001b[0;34m,\u001b[0m \u001b[0mdict\u001b[0m\u001b[0;34m)\u001b[0m\u001b[0;34m:\u001b[0m\u001b[0;34m\u001b[0m\u001b[0;34m\u001b[0m\u001b[0m\n\u001b[0;32m---> 60\u001b[0;31m         return {k: _todict(v, validate, context) for k, v in obj.items()\n\u001b[0m\u001b[1;32m     61\u001b[0m                 if v is not Undefined}\n\u001b[1;32m     62\u001b[0m     \u001b[0;32melif\u001b[0m \u001b[0mhasattr\u001b[0m\u001b[0;34m(\u001b[0m\u001b[0mobj\u001b[0m\u001b[0;34m,\u001b[0m \u001b[0;34m'to_dict'\u001b[0m\u001b[0;34m)\u001b[0m\u001b[0;34m:\u001b[0m\u001b[0;34m\u001b[0m\u001b[0;34m\u001b[0m\u001b[0m\n",
            "\u001b[0;32m/usr/local/lib/python3.6/dist-packages/altair/utils/schemapi.py\u001b[0m in \u001b[0;36m<dictcomp>\u001b[0;34m(.0)\u001b[0m\n\u001b[1;32m     59\u001b[0m     \u001b[0;32melif\u001b[0m \u001b[0misinstance\u001b[0m\u001b[0;34m(\u001b[0m\u001b[0mobj\u001b[0m\u001b[0;34m,\u001b[0m \u001b[0mdict\u001b[0m\u001b[0;34m)\u001b[0m\u001b[0;34m:\u001b[0m\u001b[0;34m\u001b[0m\u001b[0;34m\u001b[0m\u001b[0m\n\u001b[1;32m     60\u001b[0m         return {k: _todict(v, validate, context) for k, v in obj.items()\n\u001b[0;32m---> 61\u001b[0;31m                 if v is not Undefined}\n\u001b[0m\u001b[1;32m     62\u001b[0m     \u001b[0;32melif\u001b[0m \u001b[0mhasattr\u001b[0m\u001b[0;34m(\u001b[0m\u001b[0mobj\u001b[0m\u001b[0;34m,\u001b[0m \u001b[0;34m'to_dict'\u001b[0m\u001b[0;34m)\u001b[0m\u001b[0;34m:\u001b[0m\u001b[0;34m\u001b[0m\u001b[0;34m\u001b[0m\u001b[0m\n\u001b[1;32m     63\u001b[0m         \u001b[0;32mreturn\u001b[0m \u001b[0mobj\u001b[0m\u001b[0;34m.\u001b[0m\u001b[0mto_dict\u001b[0m\u001b[0;34m(\u001b[0m\u001b[0;34m)\u001b[0m\u001b[0;34m\u001b[0m\u001b[0;34m\u001b[0m\u001b[0m\n",
            "\u001b[0;32m/usr/local/lib/python3.6/dist-packages/altair/utils/schemapi.py\u001b[0m in \u001b[0;36m_todict\u001b[0;34m(obj, validate, context)\u001b[0m\n\u001b[1;32m     54\u001b[0m     \u001b[0;34m\"\"\"Convert an object to a dict representation.\"\"\"\u001b[0m\u001b[0;34m\u001b[0m\u001b[0;34m\u001b[0m\u001b[0m\n\u001b[1;32m     55\u001b[0m     \u001b[0;32mif\u001b[0m \u001b[0misinstance\u001b[0m\u001b[0;34m(\u001b[0m\u001b[0mobj\u001b[0m\u001b[0;34m,\u001b[0m \u001b[0mSchemaBase\u001b[0m\u001b[0;34m)\u001b[0m\u001b[0;34m:\u001b[0m\u001b[0;34m\u001b[0m\u001b[0;34m\u001b[0m\u001b[0m\n\u001b[0;32m---> 56\u001b[0;31m         \u001b[0;32mreturn\u001b[0m \u001b[0mobj\u001b[0m\u001b[0;34m.\u001b[0m\u001b[0mto_dict\u001b[0m\u001b[0;34m(\u001b[0m\u001b[0mvalidate\u001b[0m\u001b[0;34m=\u001b[0m\u001b[0mvalidate\u001b[0m\u001b[0;34m,\u001b[0m \u001b[0mcontext\u001b[0m\u001b[0;34m=\u001b[0m\u001b[0mcontext\u001b[0m\u001b[0;34m)\u001b[0m\u001b[0;34m\u001b[0m\u001b[0;34m\u001b[0m\u001b[0m\n\u001b[0m\u001b[1;32m     57\u001b[0m     \u001b[0;32melif\u001b[0m \u001b[0misinstance\u001b[0m\u001b[0;34m(\u001b[0m\u001b[0mobj\u001b[0m\u001b[0;34m,\u001b[0m \u001b[0;34m(\u001b[0m\u001b[0mlist\u001b[0m\u001b[0;34m,\u001b[0m \u001b[0mtuple\u001b[0m\u001b[0;34m)\u001b[0m\u001b[0;34m)\u001b[0m\u001b[0;34m:\u001b[0m\u001b[0;34m\u001b[0m\u001b[0;34m\u001b[0m\u001b[0m\n\u001b[1;32m     58\u001b[0m         \u001b[0;32mreturn\u001b[0m \u001b[0;34m[\u001b[0m\u001b[0m_todict\u001b[0m\u001b[0;34m(\u001b[0m\u001b[0mv\u001b[0m\u001b[0;34m,\u001b[0m \u001b[0mvalidate\u001b[0m\u001b[0;34m,\u001b[0m \u001b[0mcontext\u001b[0m\u001b[0;34m)\u001b[0m \u001b[0;32mfor\u001b[0m \u001b[0mv\u001b[0m \u001b[0;32min\u001b[0m \u001b[0mobj\u001b[0m\u001b[0;34m]\u001b[0m\u001b[0;34m\u001b[0m\u001b[0;34m\u001b[0m\u001b[0m\n",
            "\u001b[0;32m/usr/local/lib/python3.6/dist-packages/altair/vegalite/v4/schema/channels.py\u001b[0m in \u001b[0;36mto_dict\u001b[0;34m(self, validate, ignore, context)\u001b[0m\n\u001b[1;32m     42\u001b[0m                     raise ValueError(\"{} encoding field is specified without a type; \"\n\u001b[1;32m     43\u001b[0m                                      \u001b[0;34m\"the type cannot be inferred because it does not \"\u001b[0m\u001b[0;34m\u001b[0m\u001b[0;34m\u001b[0m\u001b[0m\n\u001b[0;32m---> 44\u001b[0;31m                                      \"match any column in the data.\".format(shorthand))\n\u001b[0m\u001b[1;32m     45\u001b[0m                 \u001b[0;32melse\u001b[0m\u001b[0;34m:\u001b[0m\u001b[0;34m\u001b[0m\u001b[0;34m\u001b[0m\u001b[0m\n\u001b[1;32m     46\u001b[0m                     raise ValueError(\"{} encoding field is specified without a type; \"\n",
            "\u001b[0;31mValueError\u001b[0m: Status encoding field is specified without a type; the type cannot be inferred because it does not match any column in the data."
          ]
        },
        {
          "output_type": "execute_result",
          "data": {
            "text/plain": [
              "alt.Chart(...)"
            ]
          },
          "metadata": {
            "tags": []
          },
          "execution_count": 9
        }
      ]
    },
    {
      "cell_type": "code",
      "metadata": {
        "id": "BBwDSQfCXiym",
        "colab_type": "code",
        "colab": {
          "base_uri": "https://localhost:8080/",
          "height": 368
        },
        "outputId": "2a807445-d47f-4f9c-fce0-ea6d649e0c29"
      },
      "source": [
        "alt.Chart(df).transform_fold(\n",
        "    ['Infected', 'Recovered', 'Deaths'],\n",
        "    as_=['Index', 'Population']\n",
        ").mark_line().encode(\n",
        "    x='Date:T',\n",
        "    y='Population:Q',\n",
        "    color='Index:N')"
      ],
      "execution_count": 22,
      "outputs": [
        {
          "output_type": "execute_result",
          "data": {
            "text/plain": [
              "alt.Chart(...)"
            ],
            "text/html": [
              "\n",
              "<div id=\"altair-viz-4cb954acb12044f3aa99fd97198af3ae\"></div>\n",
              "<script type=\"text/javascript\">\n",
              "  (function(spec, embedOpt){\n",
              "    const outputDiv = document.getElementById(\"altair-viz-4cb954acb12044f3aa99fd97198af3ae\");\n",
              "    const paths = {\n",
              "      \"vega\": \"https://cdn.jsdelivr.net/npm//vega@5?noext\",\n",
              "      \"vega-lib\": \"https://cdn.jsdelivr.net/npm//vega-lib?noext\",\n",
              "      \"vega-lite\": \"https://cdn.jsdelivr.net/npm//vega-lite@4.0.2?noext\",\n",
              "      \"vega-embed\": \"https://cdn.jsdelivr.net/npm//vega-embed@6?noext\",\n",
              "    };\n",
              "\n",
              "    function loadScript(lib) {\n",
              "      return new Promise(function(resolve, reject) {\n",
              "        var s = document.createElement('script');\n",
              "        s.src = paths[lib];\n",
              "        s.async = true;\n",
              "        s.onload = () => resolve(paths[lib]);\n",
              "        s.onerror = () => reject(`Error loading script: ${paths[lib]}`);\n",
              "        document.getElementsByTagName(\"head\")[0].appendChild(s);\n",
              "      });\n",
              "    }\n",
              "\n",
              "    function showError(err) {\n",
              "      outputDiv.innerHTML = `<div class=\"error\" style=\"color:red;\">${err}</div>`;\n",
              "      throw err;\n",
              "    }\n",
              "\n",
              "    function displayChart(vegaEmbed) {\n",
              "      vegaEmbed(outputDiv, spec, embedOpt)\n",
              "        .catch(err => showError(`Javascript Error: ${err.message}<br>This usually means there's a typo in your chart specification. See the javascript console for the full traceback.`));\n",
              "    }\n",
              "\n",
              "    if(typeof define === \"function\" && define.amd) {\n",
              "      requirejs.config({paths});\n",
              "      require([\"vega-embed\"], displayChart, err => showError(`Error loading script: ${err.message}`));\n",
              "    } else if (typeof vegaEmbed === \"function\") {\n",
              "      displayChart(vegaEmbed);\n",
              "    } else {\n",
              "      loadScript(\"vega\")\n",
              "        .then(() => loadScript(\"vega-lite\"))\n",
              "        .then(() => loadScript(\"vega-embed\"))\n",
              "        .catch(showError)\n",
              "        .then(() => displayChart(vegaEmbed));\n",
              "    }\n",
              "  })({\"config\": {\"view\": {\"continuousWidth\": 400, \"continuousHeight\": 300}}, \"data\": {\"name\": \"data-2bab6747b44e5dd71b3a660c1cff973c\"}, \"mark\": \"line\", \"encoding\": {\"color\": {\"type\": \"nominal\", \"field\": \"Index\"}, \"x\": {\"type\": \"temporal\", \"field\": \"Date\"}, \"y\": {\"type\": \"quantitative\", \"field\": \"Population\"}}, \"transform\": [{\"fold\": [\"Infected\", \"Recovered\", \"Deaths\"], \"as\": [\"Index\", \"Population\"]}], \"$schema\": \"https://vega.github.io/schema/vega-lite/v4.0.2.json\", \"datasets\": {\"data-2bab6747b44e5dd71b3a660c1cff973c\": [{\"Date\": \"1/22/2020\", \"Infected\": 555, \"Recovered\": 28, \"Deaths\": 17}, {\"Date\": \"1/23/2020\", \"Infected\": 653, \"Recovered\": 30, \"Deaths\": 18}, {\"Date\": \"1/24/2020\", \"Infected\": 941, \"Recovered\": 36, \"Deaths\": 26}, {\"Date\": \"1/25/2020\", \"Infected\": 1434, \"Recovered\": 39, \"Deaths\": 42}, {\"Date\": \"1/26/2020\", \"Infected\": 2118, \"Recovered\": 52, \"Deaths\": 56}, {\"Date\": \"1/27/2020\", \"Infected\": 2927, \"Recovered\": 61, \"Deaths\": 82}, {\"Date\": \"1/28/2020\", \"Infected\": 5578, \"Recovered\": 107, \"Deaths\": 131}, {\"Date\": \"1/29/2020\", \"Infected\": 6166, \"Recovered\": 126, \"Deaths\": 133}, {\"Date\": \"1/30/2020\", \"Infected\": 8234, \"Recovered\": 143, \"Deaths\": 171}, {\"Date\": \"1/31/2020\", \"Infected\": 9927, \"Recovered\": 222, \"Deaths\": 213}, {\"Date\": \"2/1/2020\", \"Infected\": 12038, \"Recovered\": 284, \"Deaths\": 259}, {\"Date\": \"2/2/2020\", \"Infected\": 16787, \"Recovered\": 472, \"Deaths\": 362}, {\"Date\": \"2/3/2020\", \"Infected\": 19881, \"Recovered\": 623, \"Deaths\": 426}, {\"Date\": \"2/4/2020\", \"Infected\": 23892, \"Recovered\": 852, \"Deaths\": 492}, {\"Date\": \"2/5/2020\", \"Infected\": 27636, \"Recovered\": 1124, \"Deaths\": 564}, {\"Date\": \"2/6/2020\", \"Infected\": 30818, \"Recovered\": 1487, \"Deaths\": 634}, {\"Date\": \"2/7/2020\", \"Infected\": 34392, \"Recovered\": 2011, \"Deaths\": 719}, {\"Date\": \"2/8/2020\", \"Infected\": 37121, \"Recovered\": 2616, \"Deaths\": 806}, {\"Date\": \"2/9/2020\", \"Infected\": 40151, \"Recovered\": 3244, \"Deaths\": 906}, {\"Date\": \"2/10/2020\", \"Infected\": 42763, \"Recovered\": 3946, \"Deaths\": 1013}, {\"Date\": \"2/11/2020\", \"Infected\": 44803, \"Recovered\": 4683, \"Deaths\": 1113}, {\"Date\": \"2/12/2020\", \"Infected\": 45222, \"Recovered\": 5150, \"Deaths\": 1118}, {\"Date\": \"2/13/2020\", \"Infected\": 60370, \"Recovered\": 6295, \"Deaths\": 1371}, {\"Date\": \"2/14/2020\", \"Infected\": 66887, \"Recovered\": 8058, \"Deaths\": 1523}, {\"Date\": \"2/15/2020\", \"Infected\": 69032, \"Recovered\": 9395, \"Deaths\": 1666}, {\"Date\": \"2/16/2020\", \"Infected\": 71226, \"Recovered\": 10865, \"Deaths\": 1770}, {\"Date\": \"2/17/2020\", \"Infected\": 73260, \"Recovered\": 12583, \"Deaths\": 1868}, {\"Date\": \"2/18/2020\", \"Infected\": 75138, \"Recovered\": 14352, \"Deaths\": 2007}, {\"Date\": \"2/19/2020\", \"Infected\": 75641, \"Recovered\": 16121, \"Deaths\": 2122}, {\"Date\": \"2/20/2020\", \"Infected\": 76199, \"Recovered\": 18177, \"Deaths\": 2247}, {\"Date\": \"2/21/2020\", \"Infected\": 76843, \"Recovered\": 18890, \"Deaths\": 2251}, {\"Date\": \"2/22/2020\", \"Infected\": 78599, \"Recovered\": 22886, \"Deaths\": 2458}, {\"Date\": \"2/23/2020\", \"Infected\": 78985, \"Recovered\": 23394, \"Deaths\": 2469}, {\"Date\": \"2/24/2020\", \"Infected\": 79570, \"Recovered\": 25227, \"Deaths\": 2629}, {\"Date\": \"2/25/2020\", \"Infected\": 80415, \"Recovered\": 27905, \"Deaths\": 2708}, {\"Date\": \"2/26/2020\", \"Infected\": 81397, \"Recovered\": 30384, \"Deaths\": 2770}, {\"Date\": \"2/27/2020\", \"Infected\": 82756, \"Recovered\": 33277, \"Deaths\": 2814}, {\"Date\": \"2/28/2020\", \"Infected\": 84122, \"Recovered\": 36711, \"Deaths\": 2872}, {\"Date\": \"2/29/2020\", \"Infected\": 86013, \"Recovered\": 39782, \"Deaths\": 2941}, {\"Date\": \"3/1/2020\", \"Infected\": 88371, \"Recovered\": 42716, \"Deaths\": 2996}, {\"Date\": \"3/2/2020\", \"Infected\": 90309, \"Recovered\": 45602, \"Deaths\": 3085}, {\"Date\": \"3/3/2020\", \"Infected\": 92843, \"Recovered\": 48229, \"Deaths\": 3160}, {\"Date\": \"3/4/2020\", \"Infected\": 95123, \"Recovered\": 51171, \"Deaths\": 3254}, {\"Date\": \"3/5/2020\", \"Infected\": 97885, \"Recovered\": 53797, \"Deaths\": 3348}, {\"Date\": \"3/6/2020\", \"Infected\": 101799, \"Recovered\": 55866, \"Deaths\": 3460}, {\"Date\": \"3/7/2020\", \"Infected\": 105835, \"Recovered\": 58359, \"Deaths\": 3558}, {\"Date\": \"3/8/2020\", \"Infected\": 109814, \"Recovered\": 60695, \"Deaths\": 3803}, {\"Date\": \"3/9/2020\", \"Infected\": 113583, \"Recovered\": 62512, \"Deaths\": 3996}]}}, {\"mode\": \"vega-lite\"});\n",
              "</script>"
            ]
          },
          "metadata": {
            "tags": []
          },
          "execution_count": 22
        }
      ]
    },
    {
      "cell_type": "code",
      "metadata": {
        "id": "Q5US0ZTBa4H_",
        "colab_type": "code",
        "colab": {
          "base_uri": "https://localhost:8080/",
          "height": 836
        },
        "outputId": "a9f8c806-602a-43ba-8fdd-f7e608de4586"
      },
      "source": [
        "print(df)\n"
      ],
      "execution_count": 10,
      "outputs": [
        {
          "output_type": "stream",
          "text": [
            "         Date  Infected  Recovered  Deaths\n",
            "0   1/22/2020       555         28      17\n",
            "1   1/23/2020       653         30      18\n",
            "2   1/24/2020       941         36      26\n",
            "3   1/25/2020      1434         39      42\n",
            "4   1/26/2020      2118         52      56\n",
            "5   1/27/2020      2927         61      82\n",
            "6   1/28/2020      5578        107     131\n",
            "7   1/29/2020      6166        126     133\n",
            "8   1/30/2020      8234        143     171\n",
            "9   1/31/2020      9927        222     213\n",
            "10   2/1/2020     12038        284     259\n",
            "11   2/2/2020     16787        472     362\n",
            "12   2/3/2020     19881        623     426\n",
            "13   2/4/2020     23892        852     492\n",
            "14   2/5/2020     27636       1124     564\n",
            "15   2/6/2020     30818       1487     634\n",
            "16   2/7/2020     34392       2011     719\n",
            "17   2/8/2020     37121       2616     806\n",
            "18   2/9/2020     40151       3244     906\n",
            "19  2/10/2020     42763       3946    1013\n",
            "20  2/11/2020     44803       4683    1113\n",
            "21  2/12/2020     45222       5150    1118\n",
            "22  2/13/2020     60370       6295    1371\n",
            "23  2/14/2020     66887       8058    1523\n",
            "24  2/15/2020     69032       9395    1666\n",
            "25  2/16/2020     71226      10865    1770\n",
            "26  2/17/2020     73260      12583    1868\n",
            "27  2/18/2020     75138      14352    2007\n",
            "28  2/19/2020     75641      16121    2122\n",
            "29  2/20/2020     76199      18177    2247\n",
            "30  2/21/2020     76843      18890    2251\n",
            "31  2/22/2020     78599      22886    2458\n",
            "32  2/23/2020     78985      23394    2469\n",
            "33  2/24/2020     79570      25227    2629\n",
            "34  2/25/2020     80415      27905    2708\n",
            "35  2/26/2020     81397      30384    2770\n",
            "36  2/27/2020     82756      33277    2814\n",
            "37  2/28/2020     84122      36711    2872\n",
            "38  2/29/2020     86013      39782    2941\n",
            "39   3/1/2020     88371      42716    2996\n",
            "40   3/2/2020     90309      45602    3085\n",
            "41   3/3/2020     92843      48229    3160\n",
            "42   3/4/2020     95123      51171    3254\n",
            "43   3/5/2020     97885      53797    3348\n",
            "44   3/6/2020    101799      55866    3460\n",
            "45   3/7/2020    105835      58359    3558\n",
            "46   3/8/2020    109814      60695    3803\n",
            "47   3/9/2020    113583      62512    3996\n"
          ],
          "name": "stdout"
        }
      ]
    },
    {
      "cell_type": "code",
      "metadata": {
        "id": "rBhCtJPKbhl9",
        "colab_type": "code",
        "colab": {}
      },
      "source": [
        ""
      ],
      "execution_count": 0,
      "outputs": []
    }
  ]
}